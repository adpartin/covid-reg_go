{
 "cells": [
  {
   "cell_type": "code",
   "execution_count": 1,
   "metadata": {},
   "outputs": [
    {
     "name": "stdout",
     "output_type": "stream",
     "text": [
      "/vol/ml/apartin/projects/covid-19/reg_go/lambda0\n"
     ]
    }
   ],
   "source": [
    "%load_ext autoreload\n",
    "%autoreload 2\n",
    "%matplotlib inline\n",
    "\n",
    "import warnings\n",
    "warnings.filterwarnings('ignore')\n",
    "\n",
    "import os\n",
    "import sys\n",
    "from pathlib import Path\n",
    "import numpy as np\n",
    "import pandas as pd\n",
    "from glob import glob\n",
    "\n",
    "import matplotlib\n",
    "import matplotlib.pyplot as plt\n",
    "\n",
    "sys.path.append('../')\n",
    "from keras_utils import plot_prfrm_metrics\n",
    "\n",
    "path = Path.cwd()\n",
    "print( path )"
   ]
  },
  {
   "cell_type": "code",
   "execution_count": null,
   "metadata": {},
   "outputs": [],
   "source": []
  },
  {
   "cell_type": "code",
   "execution_count": 5,
   "metadata": {},
   "outputs": [
    {
     "name": "stdout",
     "output_type": "stream",
     "text": [
      "DIR.ml.3CLPRO_1\n",
      "DIR.ml.3CLPRO_2\n",
      "DIR.ml.5WWR\n",
      "DIR.ml.ADRP_ADPR_A\n",
      "DIR.ml.COV_RDB_A_1\n",
      "DIR.ml.COV_RDB_AB\n",
      "DIR.ml.COV_RDB_BC\n",
      "DIR.ml.COV_RDB_CD\n",
      "DIR.ml.COV_RDB_DA\n",
      "DIR.ml.DNMT1_CHAINA\n",
      "DIR.ml.MPRO-X0104\n",
      "DIR.ml.MPRO-X0107\n",
      "DIR.ml.MPRO-X0161\n",
      "DIR.ml.MPRO-X0305\n",
      "DIR.ml.MPRO-X0354\n",
      "DIR.ml.NSP15_1_6VWW\n",
      "DIR.ml.NSP15_1_6W01\n",
      "DIR.ml.NSP15_2_6VWW\n",
      "DIR.ml.NSP15_2_6W01\n",
      "DIR.ml.NSP15_3_6W01\n",
      "DIR.ml.NSUN2_MODEL\n",
      "DIR.ml.PLPRO_1\n",
      "DIR.ml.PLPRO_2\n"
     ]
    }
   ],
   "source": [
    "for fpath in glob(str(path/'DIR.ml.*.log')):\n",
    "    name = str(Path(fpath).name).split('.log')[0]\n",
    "    print(name)\n",
    "    his = plot_prfrm_metrics(history=None, logfile_path=fpath, title=name, name=name, skp_ep=3, outdir='.', add_lr=False)"
   ]
  },
  {
   "cell_type": "code",
   "execution_count": 5,
   "metadata": {},
   "outputs": [],
   "source": [
    "his = plot_prfrm_metrics(history=None, logfile_path=path/'3CLPRO_1.log', title='3CLPRO_1', name=None, skp_ep=5, outdir='.', add_lr=False)"
   ]
  },
  {
   "cell_type": "code",
   "execution_count": null,
   "metadata": {},
   "outputs": [],
   "source": []
  }
 ],
 "metadata": {
  "kernelspec": {
   "display_name": "Python 3",
   "language": "python",
   "name": "python3"
  },
  "language_info": {
   "codemirror_mode": {
    "name": "ipython",
    "version": 3
   },
   "file_extension": ".py",
   "mimetype": "text/x-python",
   "name": "python",
   "nbconvert_exporter": "python",
   "pygments_lexer": "ipython3",
   "version": "3.7.6"
  }
 },
 "nbformat": 4,
 "nbformat_minor": 4
}
